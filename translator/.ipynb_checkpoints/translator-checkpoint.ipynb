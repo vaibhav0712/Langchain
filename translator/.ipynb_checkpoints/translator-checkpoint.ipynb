{
 "cells": [
  {
   "cell_type": "code",
   "execution_count": 9,
   "metadata": {},
   "outputs": [],
   "source": [
    "# Load libraries and configurations of environment variables\n",
    "import os\n",
    "from dotenv import load_dotenv\n",
    "load_dotenv()\n",
    "os.environ['GROQ_API_KEY'] = os.getenv('GROQ_API_KEY')"
   ]
  },
  {
   "cell_type": "code",
   "execution_count": 13,
   "metadata": {},
   "outputs": [],
   "source": [
    "# Load LLM model\n",
    "from langchain_groq import ChatGroq\n",
    "model= ChatGroq(model=\"llama3-8b-8192\")"
   ]
  },
  {
   "cell_type": "code",
   "execution_count": 14,
   "metadata": {},
   "outputs": [
    {
     "data": {
      "text/plain": [
       "AIMessage(content='Ciao, come stai?', response_metadata={'token_usage': {'completion_tokens': 8, 'prompt_tokens': 28, 'total_tokens': 36, 'completion_time': 0.005607068, 'prompt_time': 0.005050774, 'queue_time': None, 'total_time': 0.010657842}, 'model_name': 'llama3-8b-8192', 'system_fingerprint': 'fp_33d61fdfc3', 'finish_reason': 'stop', 'logprobs': None}, id='run-d369f76c-8f9f-4e28-9387-7196990ce6bb-0')"
      ]
     },
     "execution_count": 14,
     "metadata": {},
     "output_type": "execute_result"
    }
   ],
   "source": [
    "# Inferecing model \n",
    "from langchain_core.messages import HumanMessage, SystemMessage\n",
    "\n",
    "message = [\n",
    "    SystemMessage(content='Translate the following from english to Italian'),\n",
    "    HumanMessage(content='Hello, how are you?')\n",
    "]\n",
    "model.invoke(message) # return AIMessage Object"
   ]
  },
  {
   "cell_type": "code",
   "execution_count": 15,
   "metadata": {},
   "outputs": [],
   "source": [
    "# Output parser will help us to get only string output\n",
    "from langchain_core.output_parsers import StrOutputParser\n",
    "\n",
    "parser = StrOutputParser()"
   ]
  },
  {
   "cell_type": "code",
   "execution_count": 16,
   "metadata": {},
   "outputs": [
    {
     "name": "stdout",
     "output_type": "stream",
     "text": [
      "Ciao, come stai?\n"
     ]
    }
   ],
   "source": [
    "# One way to use parser \n",
    "output = model.invoke(message)\n",
    "print(parser.invoke(output))"
   ]
  },
  {
   "cell_type": "code",
   "execution_count": 17,
   "metadata": {},
   "outputs": [
    {
     "data": {
      "text/plain": [
       "'\"Ciao, come stai?\"'"
      ]
     },
     "execution_count": 17,
     "metadata": {},
     "output_type": "execute_result"
    }
   ],
   "source": [
    "# More commnly we use Chain \n",
    "chain = model | parser\n",
    "chain.invoke(message)"
   ]
  },
  {
   "cell_type": "code",
   "execution_count": 18,
   "metadata": {},
   "outputs": [],
   "source": [
    "# Prompt Template \n",
    "from langchain_core.prompts import ChatPromptTemplate\n",
    "system_template = 'Translate the following into {language}'\n",
    "propmt_template = ChatPromptTemplate.from_messages([('system',system_template),('user','{text}')])"
   ]
  },
  {
   "cell_type": "code",
   "execution_count": 21,
   "metadata": {},
   "outputs": [
    {
     "name": "stdout",
     "output_type": "stream",
     "text": [
      "messages=[SystemMessage(content='Translate the following into French'), HumanMessage(content='good morning')] \n",
      "\n",
      "[SystemMessage(content='Translate the following into French'), HumanMessage(content='good morning')]\n"
     ]
    }
   ],
   "source": [
    "result = propmt_template.invoke({'language':'French','text':\"good morning\"})\n",
    "print(result,'\\n')\n",
    "print(result.to_messages())"
   ]
  },
  {
   "cell_type": "code",
   "execution_count": 23,
   "metadata": {},
   "outputs": [
    {
     "data": {
      "text/plain": [
       "'सुप्रभात (Suprabhāt)'"
      ]
     },
     "execution_count": 23,
     "metadata": {},
     "output_type": "execute_result"
    }
   ],
   "source": [
    "# Chain all together \n",
    "chain = propmt_template | model | parser\n",
    "chain.invoke({'language':'Hindi','text':'good morning'})"
   ]
  },
  {
   "cell_type": "code",
   "execution_count": null,
   "metadata": {},
   "outputs": [],
   "source": [
    "# Serve with langserve"
   ]
  }
 ],
 "metadata": {
  "kernelspec": {
   "display_name": "x-beta",
   "language": "python",
   "name": "python3"
  },
  "language_info": {
   "codemirror_mode": {
    "name": "ipython",
    "version": 3
   },
   "file_extension": ".py",
   "mimetype": "text/x-python",
   "name": "python",
   "nbconvert_exporter": "python",
   "pygments_lexer": "ipython3",
   "version": "3.9.17"
  }
 },
 "nbformat": 4,
 "nbformat_minor": 2
}
